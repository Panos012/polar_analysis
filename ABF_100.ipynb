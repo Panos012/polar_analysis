{
 "cells": [
  {
   "cell_type": "code",
   "execution_count": null,
   "metadata": {},
   "outputs": [],
   "source": [
    "import atomap.api as am\n",
    "import numpy as np\n",
    "import hyperspy.api as hs\n",
    "import atomap.dummy_data as dummy_data\n",
    "\n",
    "s = hs.load('/Users/usuario/Python PM Office/20231012/DF Stack_04 aligned sum Try ABSF filtered STEM filtered Inverse.dm3') #introduce first inverse ABF or HAADF\n",
    "s.plot()"
   ]
  },
  {
   "cell_type": "code",
   "execution_count": null,
   "metadata": {},
   "outputs": [],
   "source": [
    "%matplotlib nbagg\n",
    "A_positions = am.get_atom_positions(s, separation=19)\n",
    "sublattice_A = am.Sublattice(A_positions, image=s.data, color='r')\n",
    "atom_positions_new = am.add_atoms_with_gui(s, A_positions)"
   ]
  },
  {
   "cell_type": "code",
   "execution_count": null,
   "metadata": {},
   "outputs": [],
   "source": [
    "atom_positions_select = am.select_atoms_with_gui(s, atom_positions_add)"
   ]
  },
  {
   "cell_type": "code",
   "execution_count": null,
   "metadata": {},
   "outputs": [],
   "source": [
    "atom_positions_new = am.add_atoms_with_gui(s, A_positions)"
   ]
  },
  {
   "cell_type": "code",
   "execution_count": null,
   "metadata": {},
   "outputs": [],
   "source": [
    "sublattice_A = am.Sublattice(atom_positions_new, s)\n",
    "sublattice_A.find_nearest_neighbors()\n",
    "sublattice_A.refine_atom_positions_using_center_of_mass()\n",
    "sublattice_A.refine_atom_positions_using_2d_gaussian(percent_to_nn=0.3)\n",
    "sublattice_A.construct_zone_axes(atom_plane_tolerance=0.6)\n",
    "sublattice_A.plot()\n",
    "sublattice_A.plot_planes()"
   ]
  },
  {
   "cell_type": "code",
   "execution_count": null,
   "metadata": {},
   "outputs": [],
   "source": [
    "zone_axis_001 = sublattice_A.zones_axis_average_distances[2] #1 introduces vertical zone axes\n",
    "B_positions = sublattice_A.find_missing_atoms_from_zone_vector(zone_axis_001)"
   ]
  },
  {
   "cell_type": "code",
   "execution_count": null,
   "metadata": {},
   "outputs": [],
   "source": [
    "from atomap.tools import remove_atoms_from_image_using_2d_gaussian\n",
    "image_without_A = remove_atoms_from_image_using_2d_gaussian(sublattice_A.image, sublattice_A)"
   ]
  },
  {
   "cell_type": "code",
   "execution_count": null,
   "metadata": {},
   "outputs": [],
   "source": [
    "sublattice_B = am.Sublattice(B_positions, image_without_A, color='blue')\n",
    "sublattice_B.construct_zone_axes()\n",
    "sublattice_B.refine_atom_positions_using_center_of_mass()\n",
    "sublattice_B.refine_atom_positions_using_2d_gaussian(percent_to_nn=0.3)\n",
    "sublattice_B.plot_planes()\n",
    "atom_lattice = am.Atom_Lattice(image=s.data, name='test', sublattice_list=[sublattice_A, sublattice_B])\n",
    "atom_lattice.plot()"
   ]
  },
  {
   "cell_type": "code",
   "execution_count": null,
   "metadata": {},
   "outputs": [],
   "source": [
    "s_ABF = hs.load('/Users/usuario/Python PM Office/UCL/20230922/L_c23012_01/DF Stack_06 aligned sum Wiener Filtered RL STEM.dm3')\n",
    "s_ABF.plot()"
   ]
  },
  {
   "cell_type": "code",
   "execution_count": null,
   "metadata": {},
   "outputs": [],
   "source": [
    "initial_positions = sublattice_A.atom_positions\n",
    "sublattice_A2 = am.Sublattice(initial_positions, image=np.divide(1, s_ABF.data), color='r') #if the image is already inversed use  s_ABF.data without image=np.devide \n",
    "atom_positions_add = am.add_atoms_with_gui(np.divide(1, s_ABF.data), initial_positions)"
   ]
  },
  {
   "cell_type": "code",
   "execution_count": null,
   "metadata": {},
   "outputs": [],
   "source": [
    "sublattice_A2 = am.Sublattice(atom_positions_add, image=np.divide(1, s_ABF.data), color='r')\n",
    "sublattice_A2.find_nearest_neighbors()\n",
    "sublattice_A2.refine_atom_positions_using_center_of_mass()\n",
    "sublattice_A2.refine_atom_positions_using_2d_gaussian(percent_to_nn=0.3)\n",
    "sublattice_A2.construct_zone_axes()\n",
    "image_without_A2 = remove_atoms_from_image_using_2d_gaussian(sublattice_A2.image, sublattice_A2)"
   ]
  },
  {
   "cell_type": "code",
   "execution_count": null,
   "metadata": {},
   "outputs": [],
   "source": [
    "initial_positions = sublattice_B.atom_positions\n",
    "sublattice_B2 = am.Sublattice(initial_positions, image=image_without_A2, color='b')\n",
    "atom_positions_new = am.add_atoms_with_gui(s_ABF, initial_positions)"
   ]
  },
  {
   "cell_type": "code",
   "execution_count": null,
   "metadata": {},
   "outputs": [],
   "source": [
    "sublattice_B2 = am.Sublattice(atom_positions_new, image=image_without_A2, pixel_size=4, color='b')\n",
    "sublattice_B2.find_nearest_neighbors()\n",
    "sublattice_B2.refine_atom_positions_using_center_of_mass() \n",
    "sublattice_B2.refine_atom_positions_using_2d_gaussian(percent_to_nn=0.3)#It is better not using them when the image is blur or use smaller percent\n",
    "sublattice_B2.construct_zone_axes()\n",
    "sublattice_B2.plot_planes()\n",
    "sublattice_B2.plot()"
   ]
  },
  {
   "cell_type": "code",
   "execution_count": null,
   "metadata": {},
   "outputs": [],
   "source": [
    "zone_axis_002 = sublattice_B2.zones_axis_average_distances[0]# 0 since the oxygen is parallel to B2\n",
    "O_positions = sublattice_B2.find_missing_atoms_from_zone_vector(zone_axis_002,vector_fraction=0.5,extend_outer_edges=True, outer_edge_limit=5)\n",
    "image_without_AB = remove_atoms_from_image_using_2d_gaussian(sublattice_B2.image, sublattice_B2)"
   ]
  },
  {
   "cell_type": "code",
   "execution_count": null,
   "metadata": {},
   "outputs": [],
   "source": [
    "sublattice_O = am.Sublattice(O_positions, image_without_AB, color='g') #or use image_without_AB instead of s. but preferably use s\n",
    "atom_positions_new = am.add_atoms_with_gui(s_ABF, O_positions) #instead of s I can use image without_AB however sometimes the quality of this image is bad"
   ]
  },
  {
   "cell_type": "code",
   "execution_count": null,
   "metadata": {},
   "outputs": [],
   "source": [
    "sublattice_O = am.Sublattice(O_positions, image_without_AB, color='g') #or use s instead of image_without_A. but preferably use image without A\n",
    "sublattice_O.construct_zone_axes()\n",
    "sublattice_O.refine_atom_positions_using_center_of_mass()# for oxygen is better to use both fitting methods\n",
    "sublattice_O.refine_atom_positions_using_2d_gaussian(percent_to_nn=0.3) # the % of the gaussia radious. "
   ]
  },
  {
   "cell_type": "code",
   "execution_count": null,
   "metadata": {},
   "outputs": [],
   "source": [
    "atom_lattice = am.Atom_Lattice(image=s_ABF.data, name='ABO3', sublattice_list=[sublattice_A, sublattice_B, sublattice_O])\n",
    "atom_lattice.plot()\n",
    "atom_lattice.plot(image=s.data)"
   ]
  },
  {
   "cell_type": "code",
   "execution_count": null,
   "metadata": {},
   "outputs": [],
   "source": [
    "import temul.api as tml\n",
    "sublattice_A = atom_lattice.sublattice_list[0]\n",
    "sublattice_O = atom_lattice.sublattice_list[2]\n",
    "sublattice_A.construct_zone_axes()\n",
    "za0 = sublattice_A.zones_axis_average_distances[2] # change this depending on the types of oxygen. (use either [1] and [2] or [0] and [2]\n",
    "za1 = sublattice_A.zones_axis_average_distances[0]\n",
    "s_p = sublattice_A.get_polarization_from_second_sublattice(za0, za1, sublattice_O)\n",
    "w=vector_list = s_p.metadata.vector_list\n",
    "\n",
    "# function to return the second element of the\n",
    "def colsort():\n",
    "    def sortSecond(val):\n",
    "        return val[1] \n",
    "  \n",
    "        #sort each column individualy. \n",
    "        # using the second key \n",
    "    \n",
    "    rows=15 #number of Oxygen rows.Those number are not the same as above in the case of 001 ABF images, missing 2 columns in the case of O1 \n",
    "    columns=22  #number of Oxygen columns                                                                missing 1 rows adding 1 column in the case of O2\n",
    "    \n",
    "    d=rows\n",
    "    p=0\n",
    "    w.sort() #sort the list to the first element of each item which is the row.\n",
    "    for i in range(columns): #number of columns\n",
    "        s=w[p:d] #Select all the elemnts of the first column\n",
    "        s.sort(key = sortSecond) #Sort the element from the top to bottom of the column\n",
    "        w[p:d]=s # replace the elements of the list with the sorted ones\n",
    "        p=p+rows\n",
    "        d=d+rows\n",
    "colsort()\n",
    "w\n",
    "\n",
    "#print(len(u)) #check the length of the vector so as to create a list with the same size"
   ]
  },
  {
   "cell_type": "code",
   "execution_count": null,
   "metadata": {},
   "outputs": [],
   "source": [
    "#**********Dipole filter**********\n",
    "colsort()\n",
    "x, y = [i[0] for i in w], [i[1] for i in w]\n",
    "u, v = [i[2] for i in w], [i[3] for i in w]\n",
    "\n",
    "elements=330 # number of Oxygen atoms\n",
    "rows=15 # bumber of Oxygen rows\n",
    "resolution=0.008902054\n",
    "\n",
    "#the list below is used to interate all over the vectors in the u and v lists.\n",
    "list_n = [*range(elements)]\n",
    "\n",
    "#bottom multiplication\n",
    "w.append(w.pop(0)) # puts the first value of the list at the end of it. This process used so as to multiply the first vector with the one below.\n",
    "u = [0.3*u[t]+0.1*i[2] for i,t in zip(w,list_n)]\n",
    "v = [0.3*v[t]+0.1*i[3] for i,t in zip(w,list_n)]\n",
    "\n",
    "#up multiplication\n",
    "colsort()\n",
    "for b in range(elements-1):\n",
    "    w.append(w.pop(0))#this function moves the column to the end therefore we can make multiplication of the first columnm with the second\n",
    "u = [u[t]+0.1*i[2] for i,t in zip(w,list_n)]\n",
    "v = [v[t]+0.1*i[3] for i,t in zip(w,list_n)]\n",
    "\n",
    "#side +1 column\n",
    "colsort()\n",
    "for b in range(rows):#this function moves the column to the end therefore we can make multiplication of the first columnm with the second\n",
    "    w.append(w.pop(0))\n",
    "u = [u[t]+0.15*i[2] for i,t in zip(w,list_n)]\n",
    "v = [v[t]+0.15*i[3] for i,t in zip(w,list_n)]\n",
    "\n",
    "#side +2 column\n",
    "for b in range(rows):#this function moves the column to the end therefore we can make multiplication of the first columnm with the second\n",
    "    w.append(w.pop(0))\n",
    "u = [u[t]+0.1*i[2] for i,t in zip(w,list_n)]\n",
    "v = [v[t]+0.1*i[3] for i,t in zip(w,list_n)]\n",
    "\n",
    "#side -1 column\n",
    "colsort()\n",
    "for b in range(elements-rows):#this function moves the column to the end therefore we can make multiplication of the first columnm with the second\n",
    "    w.append(w.pop(0))\n",
    "u = [u[t]+0.15*i[2] for i,t in zip(w,list_n)]\n",
    "v = [v[t]+0.15*i[3] for i,t in zip(w,list_n)]\n",
    "\n",
    "#side -2 column\n",
    "colsort()\n",
    "for b in range(elements-rows*2):#this function moves the column to the end therefore we can make multiplication of the first columnm with the second\n",
    "    w.append(w.pop(0))\n",
    "u = [u[t]+0.1*i[2] for i,t in zip(w,list_n)]\n",
    "v = [v[t]+0.1*i[3] for i,t in zip(w,list_n)]\n",
    "\n",
    "#print(w)  #use this function to check if the columns are sepparated correctly\n",
    "#for diagonal multiplication a combination between bottom and side multiplication is needed. Specifically \"for b in range(n+1)\"\n",
    "\n",
    "sampling, units =  resolution, 'nm' #image calibration\n",
    "tml.plot_polarisation_vectors(x, y, u, v, image=atom_lattice.image,sampling=sampling, units=units,unit_vector=False, save=None, scalebar=True, plot_style='vector', color='r', overlay=True, monitor_dpi=200)\n"
   ]
  },
  {
   "cell_type": "code",
   "execution_count": null,
   "metadata": {},
   "outputs": [],
   "source": [
    "#polarization map\n",
    "import temul.api as tml\n",
    "sublattice_A = atom_lattice.sublattice_list[0]\n",
    "sublattice_O = atom_lattice.sublattice_list[2]\n",
    "sublattice_A.construct_zone_axes()\n",
    "za0 = sublattice_A.zones_axis_average_distances[2]\n",
    "za1 = sublattice_A.zones_axis_average_distances[0]\n",
    "sublattice_A.plot_planes(image=atom_lattice.image)# use this function to reveal the planes and select the appropriate ones. The number of the plane is indicated on the top\n",
    "s_p = sublattice_A.get_polarization_from_second_sublattice(za0, za1, sublattice_O)\n",
    "vector_list = s_p.metadata.vector_list\n",
    "x, y = [i[0] for i in vector_list], [i[1] for i in vector_list]\n",
    "u, v = [i[2] for i in vector_list], [i[3] for i in vector_list]\n",
    "\n",
    "sampling, units = 0.008902054, 'nm' #image calibration\n",
    "tml.plot_polarisation_vectors(x, y, u, v, image=atom_lattice.image,sampling=sampling, units=units,unit_vector=False, save=None, scalebar=True, plot_style='vector', color='r', overlay=True, monitor_dpi=150)"
   ]
  },
  {
   "cell_type": "code",
   "execution_count": null,
   "metadata": {},
   "outputs": [],
   "source": [
    "# filtered averaging\n",
    "import statistics\n",
    "import numpy\n",
    "def mean(data):\n",
    "    \"\"\"Return the sample arithmetic mean of data.\"\"\"\n",
    "    n = len(data)\n",
    "    if n < 1:\n",
    "        raise ValueError('mean requires at least one data point')\n",
    "    return sum(data)/n # in Python 2 use sum(data)/float(n)\n",
    "\n",
    "def _ss(data):\n",
    "    \"\"\"Return sum of square deviations of sequence data.\"\"\"\n",
    "    c = mean(data)\n",
    "    ss = sum((x-c)**2 for x in data)\n",
    "    return ss\n",
    "def stddev(data, ddof=0):\n",
    "    \"\"\"Calculates the population standard deviation\n",
    "    by default; specify ddof=1 to compute the sample\n",
    "    standard deviation.\"\"\"\n",
    "    n = len(data)\n",
    "    if n < 2:\n",
    "        raise ValueError('variance requires at least two data points')\n",
    "    ss = _ss(data)\n",
    "    pvar = ss/(n-ddof)\n",
    "    return pvar**0.5\n",
    "\n",
    "#Here I use the filter to get better averages values\n",
    "colsort()        \n",
    "\n",
    "x, y = [i[0] for i in w], [i[1] for i in w]\n",
    "u, v = [i[2] for i in w], [i[3] for i in w]\n",
    "\n",
    "#print(len(u)) #check the length of the vector so as to create a list with the same size\n",
    "\n",
    "elements=196 # number of Oxygen atoms\n",
    "rows=14 # bumber of Oxygen rows\n",
    "columns=14  #number of Oxygen columns\n",
    "resolution=0.006139348\n",
    "\n",
    "#the list below is used to interate all over the vectors in the u and v lists.\n",
    "list_n = [*range(elements)]\n",
    "\n",
    "#bottom multiplication\n",
    "w.append(w.pop(0)) # puts the first value of the list at the end of it. This process used so as to multiply the first vector with the one below.\n",
    "u = [0.3*u[t]+0.1*i[2] for i,t in zip(w,list_n)]\n",
    "v = [0.3*v[t]+0.1*i[3] for i,t in zip(w,list_n)]\n",
    "\n",
    "#up multiplication\n",
    "colsort()\n",
    "for b in range(elements-1):\n",
    "    w.append(w.pop(0))#this function moves the column to the end therefore we can make multiplication of the first columnm with the second\n",
    "u = [u[t]+0.1*i[2] for i,t in zip(w,list_n)]\n",
    "v = [v[t]+0.1*i[3] for i,t in zip(w,list_n)]\n",
    "\n",
    "#side +1 column\n",
    "colsort()\n",
    "for b in range(rows):#this function moves the column to the end therefore we can make multiplication of the first columnm with the second\n",
    "    w.append(w.pop(0))\n",
    "u = [u[t]+0.15*i[2] for i,t in zip(w,list_n)]\n",
    "v = [v[t]+0.15*i[3] for i,t in zip(w,list_n)]\n",
    "\n",
    "#side +2 column\n",
    "for b in range(rows):#this function moves the column to the end therefore we can make multiplication of the first columnm with the second\n",
    "    w.append(w.pop(0))\n",
    "u = [u[t]+0.1*i[2] for i,t in zip(w,list_n)]\n",
    "v = [v[t]+0.1*i[3] for i,t in zip(w,list_n)]\n",
    "\n",
    "#side -1 column\n",
    "colsort()\n",
    "for b in range(elements-rows):#this function moves the column to the end therefore we can make multiplication of the first columnm with the second\n",
    "    w.append(w.pop(0))\n",
    "u = [u[t]+0.15*i[2] for i,t in zip(w,list_n)]\n",
    "v = [v[t]+0.15*i[3] for i,t in zip(w,list_n)]\n",
    "\n",
    "#side -2 column\n",
    "colsort()\n",
    "for b in range(elements-rows*2):#this function moves the column to the end therefore we can make multiplication of the first columnm with the second\n",
    "    w.append(w.pop(0))\n",
    "u = [u[t]+0.1*i[2] for i,t in zip(w,list_n)]\n",
    "v = [v[t]+0.1*i[3] for i,t in zip(w,list_n)]\n",
    "\n",
    "#End of the filter\n",
    "\n",
    "\n",
    "\n",
    "g=0;\n",
    "c=0;\n",
    "stdvp=list=[]  #list for stdv of horizontal displacement\n",
    "stdvq=list=[]  #list for stdv of vertical displacement\n",
    "\n",
    "\n",
    "print(\"        Δx                 Δy               STDVx              STDVy\")\n",
    "for q in range(rows): #this range is the number of rows\n",
    "    t=q\n",
    "    for i in range(columns): #this range is the number of columns\n",
    "        b=u[t]\n",
    "        z=v[t]\n",
    "        c=c+b\n",
    "        g=g+z\n",
    "        t=t+rows     #this range is the number of rows\n",
    "        stdvp.append(b*1000* resolution)\n",
    "        stdvq.append(z*1000* resolution)\n",
    "    \n",
    "       # stdvq.append(z)\n",
    "   ##  STDVp=numpy.std(arrp, axis=0)\n",
    "   # arrq = numpy.array([q])\n",
    "  #  e=numpy.std(arrq, axis=0)\n",
    "    STDVp=stddev(stdvp)\n",
    "    STDVq=stddev(stdvq)\n",
    "\n",
    "    l=(1000*c*resolution)/columns  #horizontal x average value in pm\n",
    "    a=(1000*g*resolution)/columns  #and vertical y average value in pm\n",
    "    print(l, a, STDVp , STDVq ) \n",
    "    c=0;\n",
    "    g=0;      \n",
    "    stdvp=list=[]  #list for stdv of horizontal displacement\n",
    "    stdvq=list=[]  #list for stdv of horizontal displacement\n",
    "t=0    "
   ]
  },
  {
   "cell_type": "code",
   "execution_count": null,
   "metadata": {},
   "outputs": [],
   "source": []
  },
  {
   "cell_type": "code",
   "execution_count": null,
   "metadata": {},
   "outputs": [],
   "source": []
  }
 ],
 "metadata": {
  "kernelspec": {
   "display_name": "Python 3 (ipykernel)",
   "language": "python",
   "name": "python3"
  },
  "language_info": {
   "codemirror_mode": {
    "name": "ipython",
    "version": 3
   },
   "file_extension": ".py",
   "mimetype": "text/x-python",
   "name": "python",
   "nbconvert_exporter": "python",
   "pygments_lexer": "ipython3",
   "version": "3.10.9"
  }
 },
 "nbformat": 4,
 "nbformat_minor": 4
}
